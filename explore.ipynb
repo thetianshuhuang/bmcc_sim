{
 "cells": [
  {
   "cell_type": "markdown",
   "metadata": {},
   "source": [
    "# DPM & MFM Roundup\n",
    "\n",
    "## Methods\n",
    "Default parameters:\n",
    "- All DPM methods default to alpha=1.0 unless otherwise specified.\n",
    "- All MFM methods default to using a poisson(k) prior unless otherwise specified.\n",
    "\n",
    "| name | description |\n",
    "|--|--|\n",
    "| dpm_gibbs | DPM using gibbs sampler |\n",
    "| dpm_sm | DPM using split merge only |\n",
    "| dpm_hybrid | DPM using hybrid (5,1) sampler |\n",
    "| dpm_eb | DPM using empirical bayes updates |\n",
    "| dpm_eb_gibbs | DPM using empirical bayes updates and gibbs sampling only |\n",
    "| dpm_small_alpha | DPM using alpha=0.1 |\n",
    "| dpm_big_alpha | DPM using alpha=10 |\n",
    "| mfm_gibbs | MFM using gibbs sampler |\n",
    "| mfm_sm | MFM using split merge only |\n",
    "| mfm_hybrid | MFM using hybrid (5,1) sampler |\n",
    "| mfm_prior_low | MFM with a poisson(k - 2) prior |\n",
    "| mfm_prior_high | MFM with a poisson(k + 2) prior |\n",
    "\n",
    "## Definitions\n",
    "- NMI: Normalized Mutual Information\n",
    "- Rand score: Adjusted Rand Index\n",
    "- Aggregation score: measure of tendency to cluster points that should be in the same cluster together:\n",
    "$$\\mathbb{P}[\\mathbf{z}_i = \\mathbf{z}_j | \\mathbf{Z}_i = \\mathbf{Z}_j]$$\n",
    "- Segregation score: measure of tendency to separate points that should be in different clusters:\n",
    "$$\\mathbb{P}[\\mathbf{z}_i \\neq \\mathbf{z}_j | \\mathbf{Z}_i \\neq \\mathbf{Z}_j]$$\n",
    "- Oracle: clustering algorithm with perfect knowledge of model parameters (i.e. cluster means, weights, covariance) but no knowledge of individual point assignments\n",
    "- Oracle Normalized (metric): metric normalized by dividing the algorithm score by the oracle clustering score on that metric\n",
    "- EB: abbreviation for empirical bayes\n",
    "\n",
    "## Columns\n",
    "|column|description|\n",
    "|--|--|\n",
    "| rand | Rand score of result |\n",
    "| nmi | NMI score of result |\n",
    "| oracle_rand | Rand score of Oracle clustering |\n",
    "| oracle_nmi | NMI of Oracle clustering |\n",
    "| num_clusters | Number of clusters in result |\n",
    "| best_idx | Index of 'best' configuration according to least squares. Useful for loading the clustering configuration without recomputing the least squares configuration. |\n",
    "| aggregation | Aggregation score |\n",
    "| segregation | Segregation score |\n",
    "| oracle_aggregation | Oracle aggregation score |\n",
    "| oracle_segregation | Oracle segregation score |\n",
    "| iterations | Number of iterations run. NOTE: runs where the number of clusters 'blew up' (>100) were terminated, and are reflected here. |\n",
    "| method | Method used. See the 'methods' section. |\n",
    "| d | Number of dimensions |\n",
    "| p | Number of points |\n",
    "| k | Number of clusters |\n",
    "| r | Ratio of weights; the nth cluster has weight proportional to $r^n$. |\n",
    "| id | Run ID (uuid4) |\n"
   ]
  },
  {
   "cell_type": "markdown",
   "metadata": {},
   "source": [
    "## Setup"
   ]
  },
  {
   "cell_type": "code",
   "execution_count": 1,
   "metadata": {},
   "outputs": [],
   "source": [
    "import pandas as pd\n",
    "import numpy as np\n",
    "from matplotlib import pyplot as plt"
   ]
  },
  {
   "cell_type": "code",
   "execution_count": 2,
   "metadata": {},
   "outputs": [],
   "source": [
    "COLUMNS = {\n",
    "    'rand': np.float64,\n",
    "    'nmi': np.float64,\n",
    "    'oracle_rand': np.float64,\n",
    "    'oracle_nmi': np.float64,\n",
    "    'num_clusters': np.uint16,\n",
    "    'best_idx': np.uint16,\n",
    "    'aggregation': np.float64,\n",
    "    'segregation': np.float64,\n",
    "    'oracle_aggregation': np.float64,\n",
    "    'oracle_segregation': np.float64,\n",
    "    'iterations': np.uint16,\n",
    "    'method': str,\n",
    "    'd': np.uint16,\n",
    "    'p': np.uint16,\n",
    "    'k': np.uint16,\n",
    "    'r': np.float64,\n",
    "    'id': str\n",
    "}"
   ]
  },
  {
   "cell_type": "code",
   "execution_count": 3,
   "metadata": {},
   "outputs": [],
   "source": [
    "SCORES = {\n",
    "    'rand': \"Rand Score\",\n",
    "    'nmi': \"NMI\",\n",
    "    'aggregation': \"Aggregation Score\",\n",
    "    'segregation': \"Segregation Score\"\n",
    "}"
   ]
  },
  {
   "cell_type": "code",
   "execution_count": 4,
   "metadata": {},
   "outputs": [],
   "source": [
    "METHODS = {\n",
    "    'mfm_prior_high': \"MFM: poisson(k + 2)\",\n",
    "    'mfm_hybrid': \"MFM: (5,1) hybrid\",\n",
    "    'mfm_prior_low': \"MFM: poisson(k - 2)\",\n",
    "    'mfm_gibbs': \"MFM: gibbs\",\n",
    "    'mfm_sm': \"MFM: split merge\",\n",
    "    'dpm_small_alpha': \"DPM: alpha=0.1\",\n",
    "    'dpm_hybrid': \"DPM: (5,1) hybrid\",\n",
    "    'dpm_big_alpha': \"DPM: alpha=10\",\n",
    "    'dpm_sm': \"DPM: split merge\",\n",
    "    'dpm_gibbs': \"DPM: gibbs\",\n",
    "    'dpm_eb': \"DPM: EB\",\n",
    "    'dpm_eb_gibbs': \"DPM: EB, gibbs\"\n",
    "}"
   ]
  },
  {
   "cell_type": "code",
   "execution_count": 5,
   "metadata": {},
   "outputs": [
    {
     "data": {
      "text/plain": [
       "{'mfm_prior_high': 'MFM: poisson(k + 2)',\n",
       " 'mfm_hybrid': 'MFM: (5,1) hybrid',\n",
       " 'mfm_prior_low': 'MFM: poisson(k - 2)',\n",
       " 'mfm_gibbs': 'MFM: gibbs',\n",
       " 'mfm_sm': 'MFM: split merge',\n",
       " 'dpm_small_alpha': 'DPM: alpha=0.1',\n",
       " 'dpm_hybrid': 'DPM: (5,1) hybrid',\n",
       " 'dpm_big_alpha': 'DPM: alpha=10',\n",
       " 'dpm_sm': 'DPM: split merge',\n",
       " 'dpm_gibbs': 'DPM: gibbs',\n",
       " 'dpm_eb': 'DPM: EB',\n",
       " 'dpm_eb_gibbs': 'DPM: EB, gibbs'}"
      ]
     },
     "execution_count": 5,
     "metadata": {},
     "output_type": "execute_result"
    }
   ],
   "source": [
    "METHODS"
   ]
  },
  {
   "cell_type": "code",
   "execution_count": 6,
   "metadata": {},
   "outputs": [],
   "source": [
    "summary = pd.read_csv('summary.csv', dtype=COLUMNS)"
   ]
  },
  {
   "cell_type": "code",
   "execution_count": 7,
   "metadata": {},
   "outputs": [],
   "source": [
    "TESTS = summary[['d', 'p', 'k']].drop_duplicates()"
   ]
  },
  {
   "cell_type": "code",
   "execution_count": 8,
   "metadata": {},
   "outputs": [],
   "source": [
    "def filter(df, **kwargs):\n",
    "    for k, v in kwargs.items():\n",
    "        df = df[df[k] == v]\n",
    "    return df"
   ]
  },
  {
   "cell_type": "markdown",
   "metadata": {},
   "source": [
    "## Plots"
   ]
  },
  {
   "cell_type": "code",
   "execution_count": 9,
   "metadata": {},
   "outputs": [],
   "source": [
    "def oracle_ratio(key='rand', **kwargs):\n",
    "    df = filter(summary, **kwargs)\n",
    "\n",
    "    return list(df[key] / df['oracle_'+ key])"
   ]
  },
  {
   "cell_type": "code",
   "execution_count": 10,
   "metadata": {},
   "outputs": [],
   "source": [
    "def get_data(test, key, sortstat=np.mean, sortkey=None):\n",
    "\n",
    "    data = [oracle_ratio(method=m, key=key, **test) for m in METHODS.keys()]\n",
    "    \n",
    "    sortlist = [\n",
    "        sortstat(d) for d in (\n",
    "            data if sortkey is None else\n",
    "            [oracle_ratio(method=m, key=sortkey, **test) for m in METHODS.keys()]\n",
    "        )]\n",
    "    \n",
    "    labels = [v for k, v in METHODS.items()]\n",
    "    \n",
    "    return list(zip(*sorted(zip(sortlist, data, labels))))\n",
    "    "
   ]
  },
  {
   "cell_type": "code",
   "execution_count": 43,
   "metadata": {},
   "outputs": [],
   "source": [
    "def get_title(test, key, plot):\n",
    "    return (\n",
    "        \"{d:d} Dimensions, {p:d} Points, {k:d} Clusters\"\n",
    "        \"  |  Oracle Normalized {metric}\"\n",
    "        \"  |  {plot}\".format(metric=SCORES.get(key, key), plot=plot, **test))\n",
    "\n",
    "def get_filename(test, key, plot):\n",
    "    return (\n",
    "        \"./plots/d={d},p={p},k={k},metric={metric},plot={}.pdf\".format(\n",
    "        metric=key, plot=plot, **test))"
   ]
  },
  {
   "cell_type": "code",
   "execution_count": 25,
   "metadata": {},
   "outputs": [],
   "source": [
    "def boxplot(key, t, ax, sortkey=None):\n",
    "\n",
    "    median, data, labels = get_data(t, key, sortstat=np.median, sortkey=sortkey)\n",
    "    colors = ['C0' if b.startswith('DPM') else 'C1' for b in labels]\n",
    "\n",
    "    bp = ax.boxplot(data, 0, '.', vert=False, patch_artist=True)\n",
    "    for box, color in zip(bp['boxes'], colors):\n",
    "        box.set(color=color)\n",
    "    plt.setp(bp['medians'], color='black')\n",
    "\n",
    "    ax.yaxis.grid()\n",
    "    ax.set_yticklabels(labels)\n",
    "    \n",
    "    \n",
    "def boxplots(key, title=True, save=False):\n",
    "    for _, t in TESTS.iterrows():\n",
    "        fig, ax = plt.subplots(1, 1)\n",
    "        \n",
    "        if title:\n",
    "            ax.set_title(get_title(t, key, plot='Boxplots, sorted by median'))\n",
    "        boxplot(key, t, ax)\n",
    "\n",
    "        if save:\n",
    "            plt.savefig(get_filename(t, key), bbox_inches='tight')"
   ]
  },
  {
   "cell_type": "code",
   "execution_count": 26,
   "metadata": {},
   "outputs": [],
   "source": [
    "from scipy import stats\n",
    "\n",
    "MIN_VAL = 0.8\n",
    "\n",
    "\n",
    "def se_interval(key, t, ax, sortkey=None):\n",
    "\n",
    "    means, data, labels = get_data(t, 'rand', sortstat=np.mean, sortkey=sortkey)\n",
    "    stderr = [stats.sem(d) * 2 for d in data]\n",
    "    colors = ['C0' if b.startswith('DPM') else 'C1' for b in labels]\n",
    "\n",
    "    for idx, (mean, err, color) in enumerate(zip(means, stderr, colors)):\n",
    "        ax.errorbar([mean], [idx], xerr=[err], fmt='o', color=color, capsize=5)\n",
    "        if mean + err < MIN_VAL:\n",
    "            ax.arrow(MIN_VAL + 0.01, idx, -0.005, 0, color=color, head_width=0.3, head_length=0.002)\n",
    "\n",
    "    ax.yaxis.grid()\n",
    "    ax.yaxis.set_ticks(np.arange(len(METHODS)))\n",
    "    ax.set_xlim(0.8, 1)\n",
    "    ax.set_yticklabels(labels)\n",
    "\n",
    "    \n",
    "def se_intervals(key, title=True):\n",
    "    figs = []\n",
    "    for _, t in TESTS.iterrows():\n",
    "        fig, ax = plt.subplots(1, 1)\n",
    "        if title:\n",
    "            ax.set_title(get_title(t, key, plot='Mean and 2SE intervals, sorted by median'))\n",
    "        se_interval(key, t, ax)\n",
    "        figs.append(fig)\n",
    "    return figs"
   ]
  },
  {
   "cell_type": "code",
   "execution_count": 23,
   "metadata": {},
   "outputs": [],
   "source": [
    "\n",
    "def ag_sg(t, fig, left, right):\n",
    "\n",
    "    fig.tight_layout()\n",
    "    boxplot('aggregation', t, left, sortkey='rand')\n",
    "    boxplot('segregation', t, right, sortkey='rand')\n",
    "    plt.setp(right.get_yticklabels(), visible=False)\n",
    "    left.set_title(\"Aggregation Score\")\n",
    "    right.set_title(\"Segregation Score\")\n",
    "\n",
    "def ag_sg_all():\n",
    "    for _, t in TESTS.iterrows():\n",
    "        fig, (left, right) = plt.subplots(1, 2)\n",
    "        fig.suptitle(\n",
    "            \"{d:d} Dimensions, {p:d} Points, {k:d} Clusters\"\n",
    "            \"  |  Sorted by Rand Score\".format(**t), y=1.05, fontsize=16)\n",
    "\n",
    "        ag_sg(t, fig, left, right)\n"
   ]
  },
  {
   "cell_type": "code",
   "execution_count": 18,
   "metadata": {},
   "outputs": [],
   "source": [
    "import math\n",
    "import matplotlib\n",
    "\n",
    "\n",
    "def latexify(fig_width=None, fig_height=None, columns=1):\n",
    "    \"\"\"Set up matplotlib's RC params for LaTeX plotting.\n",
    "    Call this before plotting a figure.\n",
    "\n",
    "    Parameters\n",
    "    ----------\n",
    "    fig_width : float, optional, inches\n",
    "    fig_height : float,  optional, inches\n",
    "    columns : {1, 2}\n",
    "    \"\"\"\n",
    "\n",
    "    # code adapted from http://www.scipy.org/Cookbook/Matplotlib/LaTeX_Examples\n",
    "\n",
    "    # Width and max height in inches for IEEE journals taken from\n",
    "    # computer.org/cms/Computer.org/Journal%20templates/transactions_art_guide.pdf\n",
    "\n",
    "    assert(columns in [1,2])\n",
    "\n",
    "    if fig_width is None:\n",
    "        fig_width = 3.39 if columns==1 else 6.9 # width in inches\n",
    "\n",
    "    if fig_height is None:\n",
    "        golden_mean = (math.sqrt(5)-1.0)/2.0    # Aesthetic ratio\n",
    "        fig_height = fig_width*golden_mean # height in inches\n",
    "\n",
    "    MAX_HEIGHT_INCHES = 8.0\n",
    "    if fig_height > MAX_HEIGHT_INCHES:\n",
    "        print(\"WARNING: fig_height too large:\" + fig_height + \n",
    "              \"so will reduce to\" + MAX_HEIGHT_INCHES + \"inches.\")\n",
    "        fig_height = MAX_HEIGHT_INCHES\n",
    "\n",
    "    params = {'backend': 'ps',\n",
    "              'axes.labelsize': 8, # fontsize for x and y labels (was 10)\n",
    "              'axes.titlesize': 8,\n",
    "              'legend.fontsize': 8, # was 10\n",
    "              'xtick.labelsize': 8,\n",
    "              'ytick.labelsize': 8,\n",
    "              'figure.figsize': [fig_width,fig_height],\n",
    "              'font.family': 'serif'\n",
    "    }\n",
    "\n",
    "    matplotlib.rcParams.update(params)\n",
    "\n",
    "\n",
    "def format_axes(ax):\n",
    "\n",
    "    for spine in ['top', 'right']:\n",
    "        ax.spines[spine].set_visible(False)\n",
    "\n",
    "    for spine in ['left', 'bottom']:\n",
    "        ax.spines[spine].set_color(SPINE_COLOR)\n",
    "        ax.spines[spine].set_linewidth(0.5)\n",
    "\n",
    "    ax.xaxis.set_ticks_position('bottom')\n",
    "    ax.yaxis.set_ticks_position('left')\n",
    "\n",
    "    for axis in [ax.xaxis, ax.yaxis]:\n",
    "        axis.set_tick_params(direction='out', color=SPINE_COLOR)\n",
    "\n",
    "    return ax\n"
   ]
  },
  {
   "cell_type": "code",
   "execution_count": 38,
   "metadata": {},
   "outputs": [],
   "source": [
    "latexify(columns=2)"
   ]
  },
  {
   "cell_type": "code",
   "execution_count": 39,
   "metadata": {},
   "outputs": [
    {
     "data": {
      "image/png": "[encoded data removed]",
      "text/plain": [
       "<Figure size 496.8x307.039 with 1 Axes>"
      ]
     },
     "metadata": {
      "needs_background": "light"
     },
     "output_type": "display_data"
    },
    {
     "data": {
      "image/png": "[encoded data removed]",
      "text/plain": [
       "<Figure size 496.8x307.039 with 1 Axes>"
      ]
     },
     "metadata": {
      "needs_background": "light"
     },
     "output_type": "display_data"
    },
    {
     "data": {
      "image/png": "[encoded data removed]",
      "text/plain": [
       "<Figure size 496.8x307.039 with 1 Axes>"
      ]
     },
     "metadata": {
      "needs_background": "light"
     },
     "output_type": "display_data"
    },
    {
     "data": {
      "image/png": "[encoded data removed]",
      "text/plain": [
       "<Figure size 496.8x307.039 with 1 Axes>"
      ]
     },
     "metadata": {
      "needs_background": "light"
     },
     "output_type": "display_data"
    },
    {
     "data": {
      "image/png": "[encoded data removed]",
      "text/plain": [
       "<Figure size 496.8x307.039 with 1 Axes>"
      ]
     },
     "metadata": {
      "needs_background": "light"
     },
     "output_type": "display_data"
    }
   ],
   "source": [
    "figs = boxplots('nmi', title=False)\n",
    "for idx, f in enumerate(figs):\n"
   ]
  }
 ],
 "metadata": {
  "celltoolbar": "Tags",
  "kernelspec": {
   "display_name": "Python 3",
   "language": "python",
   "name": "python3"
  },
  "language_info": {
   "codemirror_mode": {
    "name": "ipython",
    "version": 3
   },
   "file_extension": ".py",
   "mimetype": "text/x-python",
   "name": "python",
   "nbconvert_exporter": "python",
   "pygments_lexer": "ipython3",
   "version": "3.6.8"
  }
 },
 "nbformat": 4,
 "nbformat_minor": 2
}
